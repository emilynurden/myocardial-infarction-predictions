{
 "cells": [
  {
   "cell_type": "markdown",
   "id": "30594d81",
   "metadata": {},
   "source": [
    "# Dimensionality Reduction"
   ]
  },
  {
   "cell_type": "code",
   "execution_count": 38,
   "id": "ebea2822",
   "metadata": {},
   "outputs": [],
   "source": [
    "#imports \n",
    "import numpy as np\n",
    "import matplotlib.pyplot as plt\n",
    "import pandas as pd\n",
    "import seaborn as sns\n",
    "\n",
    "#needed for reading in cloud data\n",
    "import glob\n",
    "from natsort import natsorted\n",
    "\n",
    "#needed for PCA\n",
    "from sklearn.decomposition import PCA\n"
   ]
  },
  {
   "cell_type": "code",
   "execution_count": null,
   "id": "3ffd8f6d",
   "metadata": {},
   "outputs": [],
   "source": []
  },
  {
   "cell_type": "code",
   "execution_count": 5,
   "id": "f4bff0d0",
   "metadata": {},
   "outputs": [
    {
     "data": {
      "text/html": [
       "<div>\n",
       "<style scoped>\n",
       "    .dataframe tbody tr th:only-of-type {\n",
       "        vertical-align: middle;\n",
       "    }\n",
       "\n",
       "    .dataframe tbody tr th {\n",
       "        vertical-align: top;\n",
       "    }\n",
       "\n",
       "    .dataframe thead th {\n",
       "        text-align: right;\n",
       "    }\n",
       "</style>\n",
       "<table border=\"1\" class=\"dataframe\">\n",
       "  <thead>\n",
       "    <tr style=\"text-align: right;\">\n",
       "      <th></th>\n",
       "      <th>Unnamed: 0</th>\n",
       "      <th>MI</th>\n",
       "      <th>age</th>\n",
       "      <th>BMI</th>\n",
       "      <th>height</th>\n",
       "      <th>weight</th>\n",
       "      <th>diastolic_BP</th>\n",
       "      <th>systolic_BP</th>\n",
       "      <th>sex</th>\n",
       "    </tr>\n",
       "  </thead>\n",
       "  <tbody>\n",
       "    <tr>\n",
       "      <th>0</th>\n",
       "      <td>0</td>\n",
       "      <td>healthy</td>\n",
       "      <td>62.593012</td>\n",
       "      <td>25.312186</td>\n",
       "      <td>161.647749</td>\n",
       "      <td>64.949107</td>\n",
       "      <td>76.057670</td>\n",
       "      <td>137.765801</td>\n",
       "      <td>False</td>\n",
       "    </tr>\n",
       "    <tr>\n",
       "      <th>1</th>\n",
       "      <td>1</td>\n",
       "      <td>healthy</td>\n",
       "      <td>58.037959</td>\n",
       "      <td>32.100795</td>\n",
       "      <td>172.543391</td>\n",
       "      <td>94.715477</td>\n",
       "      <td>84.272113</td>\n",
       "      <td>143.459426</td>\n",
       "      <td>False</td>\n",
       "    </tr>\n",
       "    <tr>\n",
       "      <th>2</th>\n",
       "      <td>2</td>\n",
       "      <td>pMI</td>\n",
       "      <td>65.840496</td>\n",
       "      <td>26.099055</td>\n",
       "      <td>166.521430</td>\n",
       "      <td>71.650562</td>\n",
       "      <td>75.340419</td>\n",
       "      <td>137.100866</td>\n",
       "      <td>False</td>\n",
       "    </tr>\n",
       "    <tr>\n",
       "      <th>3</th>\n",
       "      <td>3</td>\n",
       "      <td>pMI</td>\n",
       "      <td>68.518300</td>\n",
       "      <td>27.672836</td>\n",
       "      <td>166.176884</td>\n",
       "      <td>75.779414</td>\n",
       "      <td>75.697258</td>\n",
       "      <td>140.518093</td>\n",
       "      <td>True</td>\n",
       "    </tr>\n",
       "    <tr>\n",
       "      <th>4</th>\n",
       "      <td>4</td>\n",
       "      <td>healthy</td>\n",
       "      <td>55.591381</td>\n",
       "      <td>27.266429</td>\n",
       "      <td>161.314821</td>\n",
       "      <td>70.185424</td>\n",
       "      <td>79.973837</td>\n",
       "      <td>133.740780</td>\n",
       "      <td>False</td>\n",
       "    </tr>\n",
       "  </tbody>\n",
       "</table>\n",
       "</div>"
      ],
      "text/plain": [
       "   Unnamed: 0       MI        age        BMI      height     weight  \\\n",
       "0           0  healthy  62.593012  25.312186  161.647749  64.949107   \n",
       "1           1  healthy  58.037959  32.100795  172.543391  94.715477   \n",
       "2           2      pMI  65.840496  26.099055  166.521430  71.650562   \n",
       "3           3      pMI  68.518300  27.672836  166.176884  75.779414   \n",
       "4           4  healthy  55.591381  27.266429  161.314821  70.185424   \n",
       "\n",
       "   diastolic_BP  systolic_BP    sex  \n",
       "0     76.057670   137.765801  False  \n",
       "1     84.272113   143.459426  False  \n",
       "2     75.340419   137.100866  False  \n",
       "3     75.697258   140.518093   True  \n",
       "4     79.973837   133.740780  False  "
      ]
     },
     "execution_count": 5,
     "metadata": {},
     "output_type": "execute_result"
    }
   ],
   "source": [
    "#read in demographics df \n",
    "mixed_demographics = pd.read_csv('../data:/training_data/mixed_demographics.csv')\n",
    "mixed_demographics.head()"
   ]
  },
  {
   "cell_type": "code",
   "execution_count": 35,
   "id": "5b9caaac",
   "metadata": {},
   "outputs": [],
   "source": [
    "#read in cloud data\n",
    "\n",
    "#intialise an empty matrix\n",
    "data_matrix = np.empty((10*900,3*18000))\n",
    "i = 0\n",
    "\n",
    "#we want to go through each \".npy\" file in order\n",
    "for file in natsorted(glob.glob(\"../data:/training_data/mixed_samples/*.npy\")):\n",
    "\n",
    "    #make each file in sequence the next row of a matrix\n",
    "    current_geometry = np.load(file)\n",
    "\n",
    "    for j in range(0,10):\n",
    "\n",
    "        #fill the current row of the matrix\n",
    "        data_matrix[i] = current_geometry[j,:,0:3].flatten()\n",
    "\n",
    "        #move to next row of the matrix\n",
    "        i = i + 1"
   ]
  },
  {
   "cell_type": "code",
   "execution_count": null,
   "id": "227469fb",
   "metadata": {},
   "outputs": [
    {
     "data": {
      "text/plain": [
       "array([[-20.157444  ,  17.62280464,   8.63055611, ..., -15.38268089,\n",
       "        -35.53833008,  59.0874176 ],\n",
       "       [-19.19090843,  17.49430275,   9.2532053 , ..., -15.19591618,\n",
       "        -32.96632385,  55.38721085],\n",
       "       [-18.31469727,  14.26771927,   9.15201092, ..., -13.81563377,\n",
       "        -32.41942215,  53.25785828],\n",
       "       ...,\n",
       "       [-13.05764771,   5.40545797,   8.71468925, ..., -10.83146667,\n",
       "        -34.73101807,  44.49254608],\n",
       "       [ -0.74476401,  21.23820966,  12.45429418, ...,   7.46662622,\n",
       "        -31.25759896,  54.58056126],\n",
       "       [-13.7966795 ,   6.33198214,   9.23767281, ..., -11.13682747,\n",
       "        -36.07759094,  47.19462585]], shape=(9000, 54000))"
      ]
     },
     "execution_count": 36,
     "metadata": {},
     "output_type": "execute_result"
    }
   ],
   "source": [
    "#displaying this data matrix\n",
    "data_matrix"
   ]
  },
  {
   "cell_type": "code",
   "execution_count": null,
   "id": "ab69ce80",
   "metadata": {},
   "outputs": [],
   "source": []
  }
 ],
 "metadata": {
  "kernelspec": {
   "display_name": "Python 3",
   "language": "python",
   "name": "python3"
  },
  "language_info": {
   "codemirror_mode": {
    "name": "ipython",
    "version": 3
   },
   "file_extension": ".py",
   "mimetype": "text/x-python",
   "name": "python",
   "nbconvert_exporter": "python",
   "pygments_lexer": "ipython3",
   "version": "3.13.7"
  }
 },
 "nbformat": 4,
 "nbformat_minor": 5
}
