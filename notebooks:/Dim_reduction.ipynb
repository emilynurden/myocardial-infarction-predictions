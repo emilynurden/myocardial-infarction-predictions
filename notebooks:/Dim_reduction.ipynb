{
 "cells": [
  {
   "cell_type": "markdown",
   "id": "30594d81",
   "metadata": {},
   "source": [
    "# Dimensionality Reduction"
   ]
  },
  {
   "cell_type": "markdown",
   "id": "ebea2822",
   "metadata": {},
   "source": [
    "#imports \n",
    "import numpy as np\n",
    "import matplotlib.pyplot as plt\n",
    "import pandas as pd\n",
    "import seaborn as sns\n"
   ]
  },
  {
   "cell_type": "code",
   "execution_count": null,
   "id": "f4bff0d0",
   "metadata": {},
   "outputs": [],
   "source": [
    "#read in demographics df \n",
    "mixed_demographic = pd.read_csv('../data:/training_data/mixed_demographics.csv')\n",
    "mixed_demographics.head()"
   ]
  },
  {
   "cell_type": "code",
   "execution_count": null,
   "id": "5b9caaac",
   "metadata": {},
   "outputs": [],
   "source": [
    "#read in cloud data"
   ]
  }
 ],
 "metadata": {
  "kernelspec": {
   "display_name": "venv",
   "language": "python",
   "name": "python3"
  },
  "language_info": {
   "name": "python",
   "version": "3.13.7"
  }
 },
 "nbformat": 4,
 "nbformat_minor": 5
}
