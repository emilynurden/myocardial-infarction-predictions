{
 "cells": [
  {
   "cell_type": "markdown",
   "id": "4991a49d",
   "metadata": {},
   "source": [
    "# Data Exploration of Myocardial Infarction Dataset"
   ]
  },
  {
   "cell_type": "markdown",
   "id": "c050284e",
   "metadata": {},
   "source": [
    "**Setup**"
   ]
  },
  {
   "cell_type": "code",
   "execution_count": null,
   "id": "e674fb3b",
   "metadata": {},
   "outputs": [],
   "source": [
    "#imports \n",
    "import numpy as np\n",
    "import matplotlib.pyplot as plt\n",
    "import pandas as pd\n",
    "import seaborn as sns\n"
   ]
  },
  {
   "cell_type": "markdown",
   "id": "f94a46da",
   "metadata": {},
   "source": [
    "#### Exploring the tabular data "
   ]
  },
  {
   "cell_type": "code",
   "execution_count": null,
   "id": "7d5e6e7e",
   "metadata": {},
   "outputs": [
    {
     "ename": "SyntaxError",
     "evalue": "invalid syntax (3848158201.py, line 1)",
     "output_type": "error",
     "traceback": [
      "  \u001b[36mCell\u001b[39m\u001b[36m \u001b[39m\u001b[32mIn[1]\u001b[39m\u001b[32m, line 1\u001b[39m\n\u001b[31m    \u001b[39m\u001b[31msource venv/bin/activate\u001b[39m\n           ^\n\u001b[31mSyntaxError\u001b[39m\u001b[31m:\u001b[39m invalid syntax\n"
     ]
    }
   ],
   "source": [
    "# read in data \n",
    "df_to_explore = pd.read_csv('../data/training_data.csv')\n",
    "df_to_explore.head()"
   ]
  },
  {
   "cell_type": "markdown",
   "id": "88d2404b",
   "metadata": {},
   "source": [
    "#### Exploring the point cloud data "
   ]
  },
  {
   "cell_type": "code",
   "execution_count": null,
   "id": "cfb2e0d5",
   "metadata": {},
   "outputs": [],
   "source": []
  }
 ],
 "metadata": {
  "kernelspec": {
   "display_name": "venv",
   "language": "python",
   "name": "python3"
  },
  "language_info": {
   "codemirror_mode": {
    "name": "ipython",
    "version": 3
   },
   "file_extension": ".py",
   "mimetype": "text/x-python",
   "name": "python",
   "nbconvert_exporter": "python",
   "pygments_lexer": "ipython3",
   "version": "3.13.7"
  }
 },
 "nbformat": 4,
 "nbformat_minor": 5
}
