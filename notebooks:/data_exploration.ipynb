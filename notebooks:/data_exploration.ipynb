{
 "cells": [
  {
   "cell_type": "markdown",
   "id": "4991a49d",
   "metadata": {},
   "source": [
    "# Data Exploration of Myocardial Infarction Dataset"
   ]
  },
  {
   "cell_type": "markdown",
   "id": "c050284e",
   "metadata": {},
   "source": [
    "**Setup**"
   ]
  },
  {
   "cell_type": "code",
   "execution_count": 2,
   "id": "e674fb3b",
   "metadata": {},
   "outputs": [],
   "source": [
    "#imports \n",
    "import numpy as np\n",
    "import matplotlib.pyplot as plt\n",
    "import pandas as pd\n",
    "import seaborn as sns\n"
   ]
  },
  {
   "cell_type": "markdown",
   "id": "f94a46da",
   "metadata": {},
   "source": [
    "#### Exploring the tabular data "
   ]
  },
  {
   "cell_type": "code",
   "execution_count": 19,
   "id": "7d5e6e7e",
   "metadata": {},
   "outputs": [
    {
     "data": {
      "text/html": [
       "<div>\n",
       "<style scoped>\n",
       "    .dataframe tbody tr th:only-of-type {\n",
       "        vertical-align: middle;\n",
       "    }\n",
       "\n",
       "    .dataframe tbody tr th {\n",
       "        vertical-align: top;\n",
       "    }\n",
       "\n",
       "    .dataframe thead th {\n",
       "        text-align: right;\n",
       "    }\n",
       "</style>\n",
       "<table border=\"1\" class=\"dataframe\">\n",
       "  <thead>\n",
       "    <tr style=\"text-align: right;\">\n",
       "      <th></th>\n",
       "      <th>Unnamed: 0</th>\n",
       "      <th>MI</th>\n",
       "      <th>age</th>\n",
       "      <th>BMI</th>\n",
       "      <th>height</th>\n",
       "      <th>weight</th>\n",
       "      <th>diastolic_BP</th>\n",
       "      <th>systolic_BP</th>\n",
       "      <th>sex</th>\n",
       "    </tr>\n",
       "  </thead>\n",
       "  <tbody>\n",
       "    <tr>\n",
       "      <th>0</th>\n",
       "      <td>0</td>\n",
       "      <td>healthy</td>\n",
       "      <td>62.593012</td>\n",
       "      <td>25.312186</td>\n",
       "      <td>161.647749</td>\n",
       "      <td>64.949107</td>\n",
       "      <td>76.057670</td>\n",
       "      <td>137.765801</td>\n",
       "      <td>False</td>\n",
       "    </tr>\n",
       "    <tr>\n",
       "      <th>1</th>\n",
       "      <td>1</td>\n",
       "      <td>healthy</td>\n",
       "      <td>58.037959</td>\n",
       "      <td>32.100795</td>\n",
       "      <td>172.543391</td>\n",
       "      <td>94.715477</td>\n",
       "      <td>84.272113</td>\n",
       "      <td>143.459426</td>\n",
       "      <td>False</td>\n",
       "    </tr>\n",
       "    <tr>\n",
       "      <th>2</th>\n",
       "      <td>2</td>\n",
       "      <td>pMI</td>\n",
       "      <td>65.840496</td>\n",
       "      <td>26.099055</td>\n",
       "      <td>166.521430</td>\n",
       "      <td>71.650562</td>\n",
       "      <td>75.340419</td>\n",
       "      <td>137.100866</td>\n",
       "      <td>False</td>\n",
       "    </tr>\n",
       "    <tr>\n",
       "      <th>3</th>\n",
       "      <td>3</td>\n",
       "      <td>pMI</td>\n",
       "      <td>68.518300</td>\n",
       "      <td>27.672836</td>\n",
       "      <td>166.176884</td>\n",
       "      <td>75.779414</td>\n",
       "      <td>75.697258</td>\n",
       "      <td>140.518093</td>\n",
       "      <td>True</td>\n",
       "    </tr>\n",
       "    <tr>\n",
       "      <th>4</th>\n",
       "      <td>4</td>\n",
       "      <td>healthy</td>\n",
       "      <td>55.591381</td>\n",
       "      <td>27.266429</td>\n",
       "      <td>161.314821</td>\n",
       "      <td>70.185424</td>\n",
       "      <td>79.973837</td>\n",
       "      <td>133.740780</td>\n",
       "      <td>False</td>\n",
       "    </tr>\n",
       "  </tbody>\n",
       "</table>\n",
       "</div>"
      ],
      "text/plain": [
       "   Unnamed: 0       MI        age        BMI      height     weight  \\\n",
       "0           0  healthy  62.593012  25.312186  161.647749  64.949107   \n",
       "1           1  healthy  58.037959  32.100795  172.543391  94.715477   \n",
       "2           2      pMI  65.840496  26.099055  166.521430  71.650562   \n",
       "3           3      pMI  68.518300  27.672836  166.176884  75.779414   \n",
       "4           4  healthy  55.591381  27.266429  161.314821  70.185424   \n",
       "\n",
       "   diastolic_BP  systolic_BP    sex  \n",
       "0     76.057670   137.765801  False  \n",
       "1     84.272113   143.459426  False  \n",
       "2     75.340419   137.100866  False  \n",
       "3     75.697258   140.518093   True  \n",
       "4     79.973837   133.740780  False  "
      ]
     },
     "execution_count": 19,
     "metadata": {},
     "output_type": "execute_result"
    }
   ],
   "source": [
    "# read in data \n",
    "df_to_explore = pd.read_csv('../data:/training_data/mixed_demographics.csv')\n",
    "df_to_explore.head()"
   ]
  },
  {
   "cell_type": "code",
   "execution_count": 20,
   "id": "9cc0a7c9",
   "metadata": {},
   "outputs": [
    {
     "name": "stdout",
     "output_type": "stream",
     "text": [
      "<class 'pandas.core.frame.DataFrame'>\n",
      "RangeIndex: 900 entries, 0 to 899\n",
      "Data columns (total 9 columns):\n",
      " #   Column        Non-Null Count  Dtype  \n",
      "---  ------        --------------  -----  \n",
      " 0   Unnamed: 0    900 non-null    int64  \n",
      " 1   MI            900 non-null    object \n",
      " 2   age           900 non-null    float64\n",
      " 3   BMI           900 non-null    float64\n",
      " 4   height        900 non-null    float64\n",
      " 5   weight        900 non-null    float64\n",
      " 6   diastolic_BP  900 non-null    float64\n",
      " 7   systolic_BP   900 non-null    float64\n",
      " 8   sex           900 non-null    bool   \n",
      "dtypes: bool(1), float64(6), int64(1), object(1)\n",
      "memory usage: 57.3+ KB\n"
     ]
    }
   ],
   "source": [
    "# get some basic info on the dataframe\n",
    "df_to_explore.info()"
   ]
  },
  {
   "cell_type": "code",
   "execution_count": 21,
   "id": "5cab05d9",
   "metadata": {},
   "outputs": [
    {
     "data": {
      "text/plain": [
       "Unnamed: 0      0\n",
       "MI              0\n",
       "age             0\n",
       "BMI             0\n",
       "height          0\n",
       "weight          0\n",
       "diastolic_BP    0\n",
       "systolic_BP     0\n",
       "sex             0\n",
       "dtype: int64"
      ]
     },
     "execution_count": 21,
     "metadata": {},
     "output_type": "execute_result"
    }
   ],
   "source": [
    "df_to_explore.isnull().sum()"
   ]
  },
  {
   "cell_type": "markdown",
   "id": "dfb90b83",
   "metadata": {},
   "source": [
    "there are no null values in the data set "
   ]
  },
  {
   "cell_type": "code",
   "execution_count": 13,
   "id": "35929b0c",
   "metadata": {},
   "outputs": [
    {
     "data": {
      "text/html": [
       "<div>\n",
       "<style scoped>\n",
       "    .dataframe tbody tr th:only-of-type {\n",
       "        vertical-align: middle;\n",
       "    }\n",
       "\n",
       "    .dataframe tbody tr th {\n",
       "        vertical-align: top;\n",
       "    }\n",
       "\n",
       "    .dataframe thead th {\n",
       "        text-align: right;\n",
       "    }\n",
       "</style>\n",
       "<table border=\"1\" class=\"dataframe\">\n",
       "  <thead>\n",
       "    <tr style=\"text-align: right;\">\n",
       "      <th></th>\n",
       "      <th>Unnamed: 0</th>\n",
       "      <th>MI</th>\n",
       "      <th>age</th>\n",
       "      <th>BMI</th>\n",
       "      <th>height</th>\n",
       "      <th>weight</th>\n",
       "      <th>diastolic_BP</th>\n",
       "      <th>systolic_BP</th>\n",
       "      <th>sex</th>\n",
       "    </tr>\n",
       "  </thead>\n",
       "  <tbody>\n",
       "  </tbody>\n",
       "</table>\n",
       "</div>"
      ],
      "text/plain": [
       "Empty DataFrame\n",
       "Columns: [Unnamed: 0, MI, age, BMI, height, weight, diastolic_BP, systolic_BP, sex]\n",
       "Index: []"
      ]
     },
     "execution_count": 13,
     "metadata": {},
     "output_type": "execute_result"
    }
   ],
   "source": [
    "# check for duplicate rows in the dataframe\n",
    "#keep first means that it won't return the first instance of the duplicate in the list of indices \n",
    "indexes = df_to_explore.duplicated(keep=False)\n",
    "\n",
    "#identifies all 'True' values in the series indexes and returns their index \n",
    "duplicates_indices = indexes[indexes].index.values\n",
    "\n",
    "#prints all duplicate columns for visual checking\n",
    "df_to_explore.iloc[duplicates_indices]"
   ]
  },
  {
   "cell_type": "code",
   "execution_count": 22,
   "id": "1402abb9",
   "metadata": {},
   "outputs": [
    {
     "data": {
      "text/html": [
       "<div>\n",
       "<style scoped>\n",
       "    .dataframe tbody tr th:only-of-type {\n",
       "        vertical-align: middle;\n",
       "    }\n",
       "\n",
       "    .dataframe tbody tr th {\n",
       "        vertical-align: top;\n",
       "    }\n",
       "\n",
       "    .dataframe thead th {\n",
       "        text-align: right;\n",
       "    }\n",
       "</style>\n",
       "<table border=\"1\" class=\"dataframe\">\n",
       "  <thead>\n",
       "    <tr style=\"text-align: right;\">\n",
       "      <th></th>\n",
       "      <th>count</th>\n",
       "      <th>mean</th>\n",
       "      <th>std</th>\n",
       "      <th>min</th>\n",
       "      <th>25%</th>\n",
       "      <th>50%</th>\n",
       "      <th>75%</th>\n",
       "      <th>max</th>\n",
       "    </tr>\n",
       "  </thead>\n",
       "  <tbody>\n",
       "    <tr>\n",
       "      <th>Unnamed: 0</th>\n",
       "      <td>900.0</td>\n",
       "      <td>449.500000</td>\n",
       "      <td>259.951919</td>\n",
       "      <td>0.000000</td>\n",
       "      <td>224.750000</td>\n",
       "      <td>449.500000</td>\n",
       "      <td>674.250000</td>\n",
       "      <td>899.000000</td>\n",
       "    </tr>\n",
       "    <tr>\n",
       "      <th>age</th>\n",
       "      <td>900.0</td>\n",
       "      <td>64.111860</td>\n",
       "      <td>2.547381</td>\n",
       "      <td>55.591381</td>\n",
       "      <td>62.219253</td>\n",
       "      <td>64.104358</td>\n",
       "      <td>65.858591</td>\n",
       "      <td>74.011208</td>\n",
       "    </tr>\n",
       "    <tr>\n",
       "      <th>BMI</th>\n",
       "      <td>900.0</td>\n",
       "      <td>27.619373</td>\n",
       "      <td>1.820852</td>\n",
       "      <td>19.852576</td>\n",
       "      <td>26.414552</td>\n",
       "      <td>27.654454</td>\n",
       "      <td>28.931890</td>\n",
       "      <td>33.291264</td>\n",
       "    </tr>\n",
       "    <tr>\n",
       "      <th>height</th>\n",
       "      <td>900.0</td>\n",
       "      <td>169.691638</td>\n",
       "      <td>4.024141</td>\n",
       "      <td>157.371195</td>\n",
       "      <td>167.063936</td>\n",
       "      <td>169.732035</td>\n",
       "      <td>172.411495</td>\n",
       "      <td>182.634448</td>\n",
       "    </tr>\n",
       "    <tr>\n",
       "      <th>weight</th>\n",
       "      <td>900.0</td>\n",
       "      <td>79.180642</td>\n",
       "      <td>7.017943</td>\n",
       "      <td>55.985157</td>\n",
       "      <td>73.972783</td>\n",
       "      <td>79.643591</td>\n",
       "      <td>84.443475</td>\n",
       "      <td>98.216702</td>\n",
       "    </tr>\n",
       "    <tr>\n",
       "      <th>diastolic_BP</th>\n",
       "      <td>900.0</td>\n",
       "      <td>78.498092</td>\n",
       "      <td>2.571678</td>\n",
       "      <td>70.409270</td>\n",
       "      <td>76.895646</td>\n",
       "      <td>78.367708</td>\n",
       "      <td>80.274086</td>\n",
       "      <td>86.616991</td>\n",
       "    </tr>\n",
       "    <tr>\n",
       "      <th>systolic_BP</th>\n",
       "      <td>900.0</td>\n",
       "      <td>138.327642</td>\n",
       "      <td>3.627310</td>\n",
       "      <td>124.172508</td>\n",
       "      <td>136.111341</td>\n",
       "      <td>138.169542</td>\n",
       "      <td>140.637043</td>\n",
       "      <td>149.831843</td>\n",
       "    </tr>\n",
       "  </tbody>\n",
       "</table>\n",
       "</div>"
      ],
      "text/plain": [
       "              count        mean         std         min         25%  \\\n",
       "Unnamed: 0    900.0  449.500000  259.951919    0.000000  224.750000   \n",
       "age           900.0   64.111860    2.547381   55.591381   62.219253   \n",
       "BMI           900.0   27.619373    1.820852   19.852576   26.414552   \n",
       "height        900.0  169.691638    4.024141  157.371195  167.063936   \n",
       "weight        900.0   79.180642    7.017943   55.985157   73.972783   \n",
       "diastolic_BP  900.0   78.498092    2.571678   70.409270   76.895646   \n",
       "systolic_BP   900.0  138.327642    3.627310  124.172508  136.111341   \n",
       "\n",
       "                     50%         75%         max  \n",
       "Unnamed: 0    449.500000  674.250000  899.000000  \n",
       "age            64.104358   65.858591   74.011208  \n",
       "BMI            27.654454   28.931890   33.291264  \n",
       "height        169.732035  172.411495  182.634448  \n",
       "weight         79.643591   84.443475   98.216702  \n",
       "diastolic_BP   78.367708   80.274086   86.616991  \n",
       "systolic_BP   138.169542  140.637043  149.831843  "
      ]
     },
     "execution_count": 22,
     "metadata": {},
     "output_type": "execute_result"
    }
   ],
   "source": [
    "df_to_explore.describe().T"
   ]
  },
  {
   "cell_type": "code",
   "execution_count": 23,
   "id": "e6f0a61e",
   "metadata": {},
   "outputs": [
    {
     "data": {
      "text/html": [
       "<div>\n",
       "<style scoped>\n",
       "    .dataframe tbody tr th:only-of-type {\n",
       "        vertical-align: middle;\n",
       "    }\n",
       "\n",
       "    .dataframe tbody tr th {\n",
       "        vertical-align: top;\n",
       "    }\n",
       "\n",
       "    .dataframe thead th {\n",
       "        text-align: right;\n",
       "    }\n",
       "</style>\n",
       "<table border=\"1\" class=\"dataframe\">\n",
       "  <thead>\n",
       "    <tr style=\"text-align: right;\">\n",
       "      <th></th>\n",
       "      <th>MI</th>\n",
       "      <th>age</th>\n",
       "      <th>BMI</th>\n",
       "      <th>height</th>\n",
       "      <th>weight</th>\n",
       "      <th>diastolic_BP</th>\n",
       "      <th>systolic_BP</th>\n",
       "      <th>sex</th>\n",
       "    </tr>\n",
       "  </thead>\n",
       "  <tbody>\n",
       "    <tr>\n",
       "      <th>0</th>\n",
       "      <td>healthy</td>\n",
       "      <td>62.593012</td>\n",
       "      <td>25.312186</td>\n",
       "      <td>161.647749</td>\n",
       "      <td>64.949107</td>\n",
       "      <td>76.057670</td>\n",
       "      <td>137.765801</td>\n",
       "      <td>False</td>\n",
       "    </tr>\n",
       "    <tr>\n",
       "      <th>1</th>\n",
       "      <td>healthy</td>\n",
       "      <td>58.037959</td>\n",
       "      <td>32.100795</td>\n",
       "      <td>172.543391</td>\n",
       "      <td>94.715477</td>\n",
       "      <td>84.272113</td>\n",
       "      <td>143.459426</td>\n",
       "      <td>False</td>\n",
       "    </tr>\n",
       "    <tr>\n",
       "      <th>2</th>\n",
       "      <td>pMI</td>\n",
       "      <td>65.840496</td>\n",
       "      <td>26.099055</td>\n",
       "      <td>166.521430</td>\n",
       "      <td>71.650562</td>\n",
       "      <td>75.340419</td>\n",
       "      <td>137.100866</td>\n",
       "      <td>False</td>\n",
       "    </tr>\n",
       "    <tr>\n",
       "      <th>3</th>\n",
       "      <td>pMI</td>\n",
       "      <td>68.518300</td>\n",
       "      <td>27.672836</td>\n",
       "      <td>166.176884</td>\n",
       "      <td>75.779414</td>\n",
       "      <td>75.697258</td>\n",
       "      <td>140.518093</td>\n",
       "      <td>True</td>\n",
       "    </tr>\n",
       "    <tr>\n",
       "      <th>4</th>\n",
       "      <td>healthy</td>\n",
       "      <td>55.591381</td>\n",
       "      <td>27.266429</td>\n",
       "      <td>161.314821</td>\n",
       "      <td>70.185424</td>\n",
       "      <td>79.973837</td>\n",
       "      <td>133.740780</td>\n",
       "      <td>False</td>\n",
       "    </tr>\n",
       "  </tbody>\n",
       "</table>\n",
       "</div>"
      ],
      "text/plain": [
       "        MI        age        BMI      height     weight  diastolic_BP  \\\n",
       "0  healthy  62.593012  25.312186  161.647749  64.949107     76.057670   \n",
       "1  healthy  58.037959  32.100795  172.543391  94.715477     84.272113   \n",
       "2      pMI  65.840496  26.099055  166.521430  71.650562     75.340419   \n",
       "3      pMI  68.518300  27.672836  166.176884  75.779414     75.697258   \n",
       "4  healthy  55.591381  27.266429  161.314821  70.185424     79.973837   \n",
       "\n",
       "   systolic_BP    sex  \n",
       "0   137.765801  False  \n",
       "1   143.459426  False  \n",
       "2   137.100866  False  \n",
       "3   140.518093   True  \n",
       "4   133.740780  False  "
      ]
     },
     "execution_count": 23,
     "metadata": {},
     "output_type": "execute_result"
    }
   ],
   "source": [
    "#drops unnamed: 0 column as this is just an index column\n",
    "\n",
    "df_to_explore.drop(labels = [\"Unnamed: 0\"], axis=1, inplace=True)\n",
    "df_to_explore.head()"
   ]
  },
  {
   "cell_type": "code",
   "execution_count": 28,
   "id": "35616bc7",
   "metadata": {},
   "outputs": [
    {
     "data": {
      "text/plain": [
       "['age', 'BMI', 'height', 'weight', 'diastolic_BP', 'systolic_BP']"
      ]
     },
     "execution_count": 28,
     "metadata": {},
     "output_type": "execute_result"
    }
   ],
   "source": [
    "#creates vector of numeric feature columns\n",
    "numeric_feature_columns = df_to_explore.select_dtypes(include=np.number).columns.tolist()\n",
    "numeric_feature_columns "
   ]
  },
  {
   "cell_type": "markdown",
   "id": "4b70c6ba",
   "metadata": {},
   "source": [
    "##### Plots"
   ]
  },
  {
   "cell_type": "code",
   "execution_count": 24,
   "id": "a8d71fd7",
   "metadata": {},
   "outputs": [
    {
     "data": {
      "text/plain": [
       "([0, 1, 2, 3, 4, 5, 6],\n",
       " [Text(0, 0, 'age'),\n",
       "  Text(1, 0, 'BMI'),\n",
       "  Text(2, 0, 'height'),\n",
       "  Text(3, 0, 'weight'),\n",
       "  Text(4, 0, 'diastolic_BP'),\n",
       "  Text(5, 0, 'systolic_BP'),\n",
       "  Text(6, 0, 'sex')])"
      ]
     },
     "execution_count": 24,
     "metadata": {},
     "output_type": "execute_result"
    },
    {
     "data": {
      "image/png": "[encoded data removed]",
      "text/plain": [
       "<Figure size 640x480 with 1 Axes>"
      ]
     },
     "metadata": {},
     "output_type": "display_data"
    }
   ],
   "source": [
    "#boxplot of all columns \n",
    "plt.figure()\n",
    "\n",
    "sns.boxplot(data = df_to_explore, fliersize = 5, palette = 'Set2')\n",
    "#plt.boxplot(fh1, showfliers = True, vert=False)\n",
    "plt.xticks(rotation = 90)"
   ]
  },
  {
   "cell_type": "code",
   "execution_count": 26,
   "id": "968afa31",
   "metadata": {},
   "outputs": [
    {
     "name": "stdout",
     "output_type": "stream",
     "text": [
      "MI\n",
      "healthy    0.502222\n",
      "pMI        0.497778\n",
      "Name: count, dtype: float64\n"
     ]
    }
   ],
   "source": [
    "#exploring proportions of each class in the data\n",
    "# find proportion of each class in the data\n",
    "value_counts = df_to_explore['MI'].value_counts()\n",
    "\n",
    "# Calculate the proportion of each value\n",
    "proportions = value_counts / len(df_to_explore)\n",
    "\n",
    "# Display the result\n",
    "print(proportions)\n"
   ]
  },
  {
   "cell_type": "code",
   "execution_count": 27,
   "id": "a8e1311f",
   "metadata": {},
   "outputs": [
    {
     "data": {
      "text/plain": [
       "Text(0.5, 1.0, 'Class proportions in the dataset')"
      ]
     },
     "execution_count": 27,
     "metadata": {},
     "output_type": "execute_result"
    },
    {
     "data": {
      "image/png": "[encoded data removed]",
      "text/plain": [
       "<Figure size 640x480 with 1 Axes>"
      ]
     },
     "metadata": {},
     "output_type": "display_data"
    }
   ],
   "source": [
    "#proportions as a pie chart \n",
    "plt.figure()\n",
    "plt.pie(proportions, labels = ['healthy','pMI'],colors=['#0073a8', '#e564ad'])\n",
    "plt.title('Class proportions in the dataset')\n"
   ]
  },
  {
   "cell_type": "markdown",
   "id": "88d2404b",
   "metadata": {},
   "source": [
    "#### Exploring the point cloud data "
   ]
  },
  {
   "cell_type": "code",
   "execution_count": null,
   "id": "cfb2e0d5",
   "metadata": {},
   "outputs": [],
   "source": []
  },
  {
   "cell_type": "code",
   "execution_count": null,
   "id": "0d229330",
   "metadata": {},
   "outputs": [],
   "source": []
  }
 ],
 "metadata": {
  "kernelspec": {
   "display_name": "venv",
   "language": "python",
   "name": "python3"
  },
  "language_info": {
   "codemirror_mode": {
    "name": "ipython",
    "version": 3
   },
   "file_extension": ".py",
   "mimetype": "text/x-python",
   "name": "python",
   "nbconvert_exporter": "python",
   "pygments_lexer": "ipython3",
   "version": "3.13.7"
  }
 },
 "nbformat": 4,
 "nbformat_minor": 5
}
