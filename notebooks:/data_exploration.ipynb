{
 "cells": [
  {
   "cell_type": "markdown",
   "id": "4991a49d",
   "metadata": {},
   "source": [
    "# Data Exploration of Myocardial Infarction Dataset"
   ]
  },
  {
   "cell_type": "markdown",
   "id": "e674fb3b",
   "metadata": {},
   "source": []
  }
 ],
 "metadata": {
  "language_info": {
   "name": "python"
  }
 },
 "nbformat": 4,
 "nbformat_minor": 5
}
