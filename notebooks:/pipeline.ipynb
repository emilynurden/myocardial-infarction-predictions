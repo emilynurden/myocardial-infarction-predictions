{
 "cells": [
  {
   "cell_type": "code",
   "execution_count": 4,
   "id": "957335a1",
   "metadata": {},
   "outputs": [
    {
     "data": {
      "text/plain": [
       "0.8777777777777778"
      ]
     },
     "execution_count": 4,
     "metadata": {},
     "output_type": "execute_result"
    }
   ],
   "source": [
    "##############################\n",
    "# import everything required #\n",
    "##############################\n",
    "\n",
    "import numpy as np\n",
    "import pandas as pd\n",
    "import glob\n",
    "from natsort import natsorted\n",
    "from sklearn.model_selection import train_test_split\n",
    "from sklearn.preprocessing import StandardScaler\n",
    "from sklearn.pipeline import Pipeline\n",
    "from sklearn.linear_model import LogisticRegression\n",
    "from sklearn.decomposition import PCA\n",
    "\n",
    "\n",
    "####################\n",
    "# load in the data #\n",
    "####################\n",
    "\n",
    "#read in demographics data\n",
    "mixed_demographics = pd.read_csv('../data:/training_data/mixed_demographics.csv')\n",
    "\n",
    "#read in cloud data\n",
    "data_matrix = np.empty((900,3*18000))\n",
    "i = 0\n",
    "\n",
    "#we want to go through each \".npy\" file in order\n",
    "for file in natsorted(glob.glob(\"../data:/training_data/mixed_samples/*.npy\")):\n",
    "\n",
    "    #make each file in sequence the next row of a matrix\n",
    "    current_geometry = np.load(file)\n",
    "\n",
    "    #fill the current row of the matrix\n",
    "    data_matrix[i] = current_geometry[0,:,0:3].flatten()\n",
    "\n",
    "    #move to next row of the matrix\n",
    "    i = i + 1\n",
    "\n",
    "#split into train and test set\n",
    "labels = mixed_demographics[\"MI\"]\n",
    "X_train, X_test, y_train, y_test = train_test_split(data_matrix, labels, \n",
    "                                                    test_size=0.2, random_state=42, \n",
    "                                                    stratify=labels)\n",
    "###################\n",
    "# create pipeline #\n",
    "###################\n",
    "\n",
    "#randomforrest\n",
    "from sklearn.ensemble import RandomForestClassifier\n",
    "\n",
    "rf = Pipeline([\n",
    "    (\"scale\", StandardScaler()),\n",
    "    (\"pca\", PCA(n_components=50)),\n",
    "    (\"clf\", RandomForestClassifier(random_state=42))\n",
    "])\n",
    "rf.fit(X_train, y_train).score(X_test,y_test)"
   ]
  }
 ],
 "metadata": {
  "kernelspec": {
   "display_name": "Python 3",
   "language": "python",
   "name": "python3"
  },
  "language_info": {
   "codemirror_mode": {
    "name": "ipython",
    "version": 3
   },
   "file_extension": ".py",
   "mimetype": "text/x-python",
   "name": "python",
   "nbconvert_exporter": "python",
   "pygments_lexer": "ipython3",
   "version": "3.13.7"
  }
 },
 "nbformat": 4,
 "nbformat_minor": 5
}
